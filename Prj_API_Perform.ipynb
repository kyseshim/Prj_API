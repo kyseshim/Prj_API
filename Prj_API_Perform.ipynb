{
 "cells": [
  {
   "cell_type": "markdown",
   "id": "592617b9",
   "metadata": {},
   "source": [
    "## Libraries"
   ]
  },
  {
   "cell_type": "code",
   "execution_count": 5,
   "id": "75dc59e2",
   "metadata": {},
   "outputs": [],
   "source": [
    "#data-manipulation\n",
    "import pandas as pd\n",
    "import numpy as np\n",
    "import nltk"
   ]
  },
  {
   "cell_type": "code",
   "execution_count": 2,
   "id": "a3ba8de3",
   "metadata": {},
   "outputs": [],
   "source": [
    "#dtata-visualization\n",
    "import matplotlib.pyplot as plt\n",
    "import seaborn as sns"
   ]
  },
  {
   "cell_type": "code",
   "execution_count": 4,
   "id": "9faf6abb",
   "metadata": {},
   "outputs": [],
   "source": [
    "#financial-data & black litterman model\n",
    "#!pip install yfinance\n",
    "#!pip install PyPortfolioOpt\n",
    "import yfinance as yf\n",
    "from pypfopt import black_litterman, risk_models\n",
    "from pypfopt.black_litterman import BlackLittermanModel\n",
    "from pypfopt.efficient_frontier import EfficientFrontier\n",
    "#!pip install refinitiv.data --user\n",
    "import refinitiv.data as rd"
   ]
  },
  {
   "cell_type": "markdown",
   "id": "5d66ab4a",
   "metadata": {},
   "source": [
    "https://lynnshin.tistory.com/14"
   ]
  },
  {
   "cell_type": "markdown",
   "id": "303c83ad",
   "metadata": {},
   "source": [
    "## Refinitiv (need to check)"
   ]
  },
  {
   "cell_type": "code",
   "execution_count": 22,
   "id": "028d516e",
   "metadata": {},
   "outputs": [
    {
     "data": {
      "text/plain": [
       "<refinitiv.data.session.Definition object at 0x176283c64f0 {name='workspace'}>"
      ]
     },
     "execution_count": 22,
     "metadata": {},
     "output_type": "execute_result"
    }
   ],
   "source": [
    "rd.open_session()"
   ]
  },
  {
   "cell_type": "code",
   "execution_count": 23,
   "id": "7fb9b601",
   "metadata": {},
   "outputs": [],
   "source": [
    "df1 = rd.get_history(universe=['GOOG.O'],\n",
    "                    fields=[\"TR.PriceOpen\", \"TR.PriceHigh\", \"TR.PriceLow\", \"TR.PriceClose\"],\n",
    "                    interval=\"daily\",\n",
    "                    start='2022-2-22',\n",
    "                    end='2023-2-21',)"
   ]
  },
  {
   "cell_type": "code",
   "execution_count": 24,
   "id": "338c15a5",
   "metadata": {},
   "outputs": [
    {
     "data": {
      "text/html": [
       "<div>\n",
       "<style scoped>\n",
       "    .dataframe tbody tr th:only-of-type {\n",
       "        vertical-align: middle;\n",
       "    }\n",
       "\n",
       "    .dataframe tbody tr th {\n",
       "        vertical-align: top;\n",
       "    }\n",
       "\n",
       "    .dataframe thead th {\n",
       "        text-align: right;\n",
       "    }\n",
       "</style>\n",
       "<table border=\"1\" class=\"dataframe\">\n",
       "  <thead>\n",
       "    <tr style=\"text-align: right;\">\n",
       "      <th>GOOG.O</th>\n",
       "      <th>Price Close</th>\n",
       "    </tr>\n",
       "    <tr>\n",
       "      <th>Date</th>\n",
       "      <th></th>\n",
       "    </tr>\n",
       "  </thead>\n",
       "  <tbody>\n",
       "    <tr>\n",
       "      <th>2022-02-22</th>\n",
       "      <td>129.4025</td>\n",
       "    </tr>\n",
       "    <tr>\n",
       "      <th>2022-02-23</th>\n",
       "      <td>127.585</td>\n",
       "    </tr>\n",
       "    <tr>\n",
       "      <th>2022-02-24</th>\n",
       "      <td>132.6735</td>\n",
       "    </tr>\n",
       "    <tr>\n",
       "      <th>2022-02-25</th>\n",
       "      <td>134.5195</td>\n",
       "    </tr>\n",
       "    <tr>\n",
       "      <th>2022-02-28</th>\n",
       "      <td>134.891</td>\n",
       "    </tr>\n",
       "  </tbody>\n",
       "</table>\n",
       "</div>"
      ],
      "text/plain": [
       "GOOG.O      Price Close\n",
       "Date                   \n",
       "2022-02-22     129.4025\n",
       "2022-02-23      127.585\n",
       "2022-02-24     132.6735\n",
       "2022-02-25     134.5195\n",
       "2022-02-28      134.891"
      ]
     },
     "execution_count": 24,
     "metadata": {},
     "output_type": "execute_result"
    }
   ],
   "source": [
    "df1.head(5)"
   ]
  },
  {
   "cell_type": "code",
   "execution_count": 25,
   "id": "b99f2fe7",
   "metadata": {},
   "outputs": [],
   "source": [
    "rd.close_session()"
   ]
  },
  {
   "cell_type": "markdown",
   "id": "eb93ce39",
   "metadata": {},
   "source": [
    "## Yahoo Finance"
   ]
  },
  {
   "cell_type": "code",
   "execution_count": 13,
   "id": "2e24ffb3",
   "metadata": {},
   "outputs": [
    {
     "name": "stdout",
     "output_type": "stream",
     "text": [
      "{'regularMarketPrice': None, 'preMarketPrice': None, 'logo_url': ''}\n"
     ]
    }
   ],
   "source": [
    "df2 = yf.Ticker(\"GOOG\")\n",
    "print(df2.info)"
   ]
  },
  {
   "cell_type": "code",
   "execution_count": 19,
   "id": "4a4ba7c9",
   "metadata": {},
   "outputs": [],
   "source": [
    "# get historical market data\n",
    "hist = df2.history(period=\"1y\")"
   ]
  },
  {
   "cell_type": "code",
   "execution_count": 20,
   "id": "0fa62a61",
   "metadata": {},
   "outputs": [
    {
     "data": {
      "text/html": [
       "<div>\n",
       "<style scoped>\n",
       "    .dataframe tbody tr th:only-of-type {\n",
       "        vertical-align: middle;\n",
       "    }\n",
       "\n",
       "    .dataframe tbody tr th {\n",
       "        vertical-align: top;\n",
       "    }\n",
       "\n",
       "    .dataframe thead th {\n",
       "        text-align: right;\n",
       "    }\n",
       "</style>\n",
       "<table border=\"1\" class=\"dataframe\">\n",
       "  <thead>\n",
       "    <tr style=\"text-align: right;\">\n",
       "      <th></th>\n",
       "      <th>Open</th>\n",
       "      <th>High</th>\n",
       "      <th>Low</th>\n",
       "      <th>Close</th>\n",
       "      <th>Volume</th>\n",
       "      <th>Dividends</th>\n",
       "      <th>Stock Splits</th>\n",
       "    </tr>\n",
       "    <tr>\n",
       "      <th>Date</th>\n",
       "      <th></th>\n",
       "      <th></th>\n",
       "      <th></th>\n",
       "      <th></th>\n",
       "      <th></th>\n",
       "      <th></th>\n",
       "      <th></th>\n",
       "    </tr>\n",
       "  </thead>\n",
       "  <tbody>\n",
       "    <tr>\n",
       "      <th>2022-02-22 00:00:00-05:00</th>\n",
       "      <td>129.985001</td>\n",
       "      <td>131.900757</td>\n",
       "      <td>127.740997</td>\n",
       "      <td>129.402496</td>\n",
       "      <td>38906000</td>\n",
       "      <td>0</td>\n",
       "      <td>0.0</td>\n",
       "    </tr>\n",
       "    <tr>\n",
       "      <th>2022-02-23 00:00:00-05:00</th>\n",
       "      <td>131.078506</td>\n",
       "      <td>131.748993</td>\n",
       "      <td>127.503502</td>\n",
       "      <td>127.584999</td>\n",
       "      <td>26432000</td>\n",
       "      <td>0</td>\n",
       "      <td>0.0</td>\n",
       "    </tr>\n",
       "    <tr>\n",
       "      <th>2022-02-24 00:00:00-05:00</th>\n",
       "      <td>125.000000</td>\n",
       "      <td>133.037003</td>\n",
       "      <td>124.764503</td>\n",
       "      <td>132.673492</td>\n",
       "      <td>43166000</td>\n",
       "      <td>0</td>\n",
       "      <td>0.0</td>\n",
       "    </tr>\n",
       "    <tr>\n",
       "      <th>2022-02-25 00:00:00-05:00</th>\n",
       "      <td>133.525497</td>\n",
       "      <td>135.389008</td>\n",
       "      <td>131.764999</td>\n",
       "      <td>134.519501</td>\n",
       "      <td>26236000</td>\n",
       "      <td>0</td>\n",
       "      <td>0.0</td>\n",
       "    </tr>\n",
       "    <tr>\n",
       "      <th>2022-02-28 00:00:00-05:00</th>\n",
       "      <td>133.284500</td>\n",
       "      <td>135.640503</td>\n",
       "      <td>132.825256</td>\n",
       "      <td>134.891006</td>\n",
       "      <td>29676000</td>\n",
       "      <td>0</td>\n",
       "      <td>0.0</td>\n",
       "    </tr>\n",
       "  </tbody>\n",
       "</table>\n",
       "</div>"
      ],
      "text/plain": [
       "                                 Open        High         Low       Close  \\\n",
       "Date                                                                        \n",
       "2022-02-22 00:00:00-05:00  129.985001  131.900757  127.740997  129.402496   \n",
       "2022-02-23 00:00:00-05:00  131.078506  131.748993  127.503502  127.584999   \n",
       "2022-02-24 00:00:00-05:00  125.000000  133.037003  124.764503  132.673492   \n",
       "2022-02-25 00:00:00-05:00  133.525497  135.389008  131.764999  134.519501   \n",
       "2022-02-28 00:00:00-05:00  133.284500  135.640503  132.825256  134.891006   \n",
       "\n",
       "                             Volume  Dividends  Stock Splits  \n",
       "Date                                                          \n",
       "2022-02-22 00:00:00-05:00  38906000          0           0.0  \n",
       "2022-02-23 00:00:00-05:00  26432000          0           0.0  \n",
       "2022-02-24 00:00:00-05:00  43166000          0           0.0  \n",
       "2022-02-25 00:00:00-05:00  26236000          0           0.0  \n",
       "2022-02-28 00:00:00-05:00  29676000          0           0.0  "
      ]
     },
     "execution_count": 20,
     "metadata": {},
     "output_type": "execute_result"
    }
   ],
   "source": [
    "hist.head(5)"
   ]
  },
  {
   "cell_type": "markdown",
   "id": "72de5237",
   "metadata": {},
   "source": [
    "## FinanceDataReader\n",
    "(https://github.com/financedata-org/FinanceDataReader)"
   ]
  },
  {
   "cell_type": "code",
   "execution_count": 35,
   "id": "618f8a8e",
   "metadata": {},
   "outputs": [],
   "source": [
    "#!pip install finance-datareader\n",
    "import FinanceDataReader as fdr"
   ]
  },
  {
   "cell_type": "code",
   "execution_count": 36,
   "id": "cb6901ba",
   "metadata": {},
   "outputs": [
    {
     "data": {
      "text/html": [
       "<div>\n",
       "<style scoped>\n",
       "    .dataframe tbody tr th:only-of-type {\n",
       "        vertical-align: middle;\n",
       "    }\n",
       "\n",
       "    .dataframe tbody tr th {\n",
       "        vertical-align: top;\n",
       "    }\n",
       "\n",
       "    .dataframe thead th {\n",
       "        text-align: right;\n",
       "    }\n",
       "</style>\n",
       "<table border=\"1\" class=\"dataframe\">\n",
       "  <thead>\n",
       "    <tr style=\"text-align: right;\">\n",
       "      <th></th>\n",
       "      <th>Open</th>\n",
       "      <th>High</th>\n",
       "      <th>Low</th>\n",
       "      <th>Close</th>\n",
       "      <th>Adj Close</th>\n",
       "      <th>Volume</th>\n",
       "    </tr>\n",
       "    <tr>\n",
       "      <th>Date</th>\n",
       "      <th></th>\n",
       "      <th></th>\n",
       "      <th></th>\n",
       "      <th></th>\n",
       "      <th></th>\n",
       "      <th></th>\n",
       "    </tr>\n",
       "  </thead>\n",
       "  <tbody>\n",
       "    <tr>\n",
       "      <th>2022-02-22</th>\n",
       "      <td>129.985001</td>\n",
       "      <td>131.900757</td>\n",
       "      <td>127.740997</td>\n",
       "      <td>129.402496</td>\n",
       "      <td>129.402496</td>\n",
       "      <td>38906000</td>\n",
       "    </tr>\n",
       "    <tr>\n",
       "      <th>2022-02-23</th>\n",
       "      <td>131.078506</td>\n",
       "      <td>131.748993</td>\n",
       "      <td>127.503502</td>\n",
       "      <td>127.584999</td>\n",
       "      <td>127.584999</td>\n",
       "      <td>26432000</td>\n",
       "    </tr>\n",
       "    <tr>\n",
       "      <th>2022-02-24</th>\n",
       "      <td>125.000000</td>\n",
       "      <td>133.037003</td>\n",
       "      <td>124.764503</td>\n",
       "      <td>132.673492</td>\n",
       "      <td>132.673492</td>\n",
       "      <td>43166000</td>\n",
       "    </tr>\n",
       "    <tr>\n",
       "      <th>2022-02-25</th>\n",
       "      <td>133.525497</td>\n",
       "      <td>135.389008</td>\n",
       "      <td>131.764999</td>\n",
       "      <td>134.519501</td>\n",
       "      <td>134.519501</td>\n",
       "      <td>26236000</td>\n",
       "    </tr>\n",
       "    <tr>\n",
       "      <th>2022-02-28</th>\n",
       "      <td>133.284500</td>\n",
       "      <td>135.640503</td>\n",
       "      <td>132.825256</td>\n",
       "      <td>134.891006</td>\n",
       "      <td>134.891006</td>\n",
       "      <td>29676000</td>\n",
       "    </tr>\n",
       "  </tbody>\n",
       "</table>\n",
       "</div>"
      ],
      "text/plain": [
       "                  Open        High         Low       Close   Adj Close  \\\n",
       "Date                                                                     \n",
       "2022-02-22  129.985001  131.900757  127.740997  129.402496  129.402496   \n",
       "2022-02-23  131.078506  131.748993  127.503502  127.584999  127.584999   \n",
       "2022-02-24  125.000000  133.037003  124.764503  132.673492  132.673492   \n",
       "2022-02-25  133.525497  135.389008  131.764999  134.519501  134.519501   \n",
       "2022-02-28  133.284500  135.640503  132.825256  134.891006  134.891006   \n",
       "\n",
       "              Volume  \n",
       "Date                  \n",
       "2022-02-22  38906000  \n",
       "2022-02-23  26432000  \n",
       "2022-02-24  43166000  \n",
       "2022-02-25  26236000  \n",
       "2022-02-28  29676000  "
      ]
     },
     "execution_count": 36,
     "metadata": {},
     "output_type": "execute_result"
    }
   ],
   "source": [
    "df4 = fdr.DataReader('GOOG', '2022-02-22', '2023-02-21')\n",
    "\n",
    "df4.head(5)"
   ]
  }
 ],
 "metadata": {
  "kernelspec": {
   "display_name": "Python 3",
   "language": "python",
   "name": "python3"
  },
  "language_info": {
   "codemirror_mode": {
    "name": "ipython",
    "version": 3
   },
   "file_extension": ".py",
   "mimetype": "text/x-python",
   "name": "python",
   "nbconvert_exporter": "python",
   "pygments_lexer": "ipython3",
   "version": "3.8.8"
  }
 },
 "nbformat": 4,
 "nbformat_minor": 5
}
